{
 "cells": [
  {
   "cell_type": "code",
   "execution_count": 33,
   "id": "03f7da63",
   "metadata": {},
   "outputs": [],
   "source": [
    "class Gym:\n",
    "#Age, Gender, Mobile Number, Email, BMI, Membership\n",
    "#Duration in months (1, 3, 6, or 12) and password.\n",
    "    super_user = {}\n",
    "    def set_name(self,name):\n",
    "        self.name = name\n",
    "    def set_age(self,age):\n",
    "        self.age = age\n",
    "    def set_mobile_number(self,mobile):\n",
    "        self.mobile = mobile\n",
    "    def set_email(self,email):\n",
    "        self.email = email\n",
    "    def set_bmi(self,bmi):\n",
    "        self.bmi = bmi\n",
    "        self.get_regimen(bmi)\n",
    "    def set_duration_in_month(self,month):\n",
    "        if int(month)==1 or int(month)==3 or int(month)==6 or int(month)==12:\n",
    "            self.month = month\n",
    "        else:\n",
    "            self.month = 1\n",
    "    def set_password(self,password):\n",
    "        self.password = password\n",
    "    def set_gender(self,gender):\n",
    "        self.gender = gender\n",
    "    def get_regimen(self, bmi):\n",
    "        if float(bmi)>35.0:\n",
    "            bmi = 35.0\n",
    "        if float(bmi) <= 18.5:\n",
    "            self.workout_reg = {\"Mon\": \"Chest\",\n",
    "                    \"Tue\": \"Biceps\",\n",
    "                    \"Wed\": \"Rest\",\n",
    "                    \"Thu\": \"Back\",\n",
    "                    \"Fri\": \"Triceps\",\n",
    "                    \"Sat\": \"Rest\",\n",
    "                    \"Sun\": \"Rest\"}\n",
    "        elif float(bmi) <= 25.0 and float(bmi)>18.5:\n",
    "            self.workout_reg = {\"Mon\": \"Chest\",\n",
    "                    \"Tue\": \"Biceps\",\n",
    "                    \"Wed\": \"Cardio/Abs\",\n",
    "                    \"Thu\": \"Back\",\n",
    "                    \"Fri\": \"Triceps\",\n",
    "                    \"Sat\": \"Legs\",\n",
    "                    \"Sun\": \"Rest\"}\n",
    "        elif float(bmi) <= 30.0 and float(bmi)>25.0:\n",
    "            self.workout_reg = {\"Mon\": \"Chest\",\n",
    "                    \"Tue\": \"Biceps\",\n",
    "                    \"Wed\": \"Abs/Cardio\",\n",
    "                    \"Thu\": \"Back\",\n",
    "                    \"Fri\": \"Triceps\",\n",
    "                    \"Sat\": \"Legs\",\n",
    "                    \"Sun\": \"Cardio\"}\n",
    "        elif float(bmi)<=35.0 and float(bmi)>30:\n",
    "            self.workout_reg = {\"Mon\": \"Chest\",\n",
    "                    \"Tue\": \"Biceps\",\n",
    "                    \"Wed\": \"Cardio\",\n",
    "                    \"Thu\": \"Back\",\n",
    "                    \"Fri\": \"Triceps\",\n",
    "                    \"Sat\": \"Cardio\",\n",
    "                    \"Sun\": \"Cardio\"}\n",
    "    def create_user(self):\n",
    "        Gym.super_user[self.mobile] = {}\n",
    "        Gym.super_user[self.mobile][self.password] = self"
   ]
  },
  {
   "cell_type": "code",
   "execution_count": 7,
   "id": "9e7bdd99",
   "metadata": {},
   "outputs": [],
   "source": [
    "user = Gym()"
   ]
  },
  {
   "cell_type": "code",
   "execution_count": 10,
   "id": "17ba5d4d",
   "metadata": {},
   "outputs": [
    {
     "data": {
      "text/plain": [
       "{'name': 'Talib',\n",
       " 'mobile': '9999',\n",
       " 'bmi': '36',\n",
       " 'month': 1,\n",
       " 'email': 'talib@gmail.com',\n",
       " 'gender': 'M',\n",
       " 'age': '21',\n",
       " 'password': 'Talib123'}"
      ]
     },
     "execution_count": 10,
     "metadata": {},
     "output_type": "execute_result"
    }
   ],
   "source": [
    "user.__dict__"
   ]
  },
  {
   "cell_type": "code",
   "execution_count": null,
   "id": "44b34a68",
   "metadata": {},
   "outputs": [],
   "source": []
  },
  {
   "cell_type": "code",
   "execution_count": null,
   "id": "33c2923b",
   "metadata": {},
   "outputs": [],
   "source": []
  },
  {
   "cell_type": "code",
   "execution_count": 22,
   "id": "92529c13",
   "metadata": {},
   "outputs": [
    {
     "data": {
      "text/plain": [
       "{'487985': {'Guru123@': {'name': 'Guru',\n",
       "   'mobile': '487985',\n",
       "   'bmi': '26',\n",
       "   'workout_reg': {'Mon': 'Chest',\n",
       "    'Tue': 'Biceps',\n",
       "    'Wed': 'Abs/Cardio',\n",
       "    'Thu': 'Back',\n",
       "    'Fri': 'Triceps',\n",
       "    'Sat': 'Legs',\n",
       "    'Sun': 'Cardio'},\n",
       "   'month': '6',\n",
       "   'email': 'Guru@gmail.com',\n",
       "   'gender': 'M',\n",
       "   'age': '23',\n",
       "   'password': 'Guru123@'}}}"
      ]
     },
     "execution_count": 22,
     "metadata": {},
     "output_type": "execute_result"
    }
   ],
   "source": [
    "dict1"
   ]
  },
  {
   "cell_type": "code",
   "execution_count": 24,
   "id": "0121fe54",
   "metadata": {},
   "outputs": [],
   "source": [
    "dict1['487985']\n",
    "passw = list(dict1['487985'].keys())[0]"
   ]
  },
  {
   "cell_type": "code",
   "execution_count": 27,
   "id": "0bc667fd",
   "metadata": {},
   "outputs": [
    {
     "data": {
      "text/plain": [
       "{'name': 'Guru',\n",
       " 'mobile': '487985',\n",
       " 'bmi': '26',\n",
       " 'workout_reg': {'Mon': 'Chest',\n",
       "  'Tue': 'Biceps',\n",
       "  'Wed': 'Abs/Cardio',\n",
       "  'Thu': 'Back',\n",
       "  'Fri': 'Triceps',\n",
       "  'Sat': 'Legs',\n",
       "  'Sun': 'Cardio'},\n",
       " 'month': '6',\n",
       " 'email': 'Guru@gmail.com',\n",
       " 'gender': 'M',\n",
       " 'age': '23',\n",
       " 'password': 'Guru123@'}"
      ]
     },
     "execution_count": 27,
     "metadata": {},
     "output_type": "execute_result"
    }
   ],
   "source": [
    "dict1['487985'][passw]"
   ]
  },
  {
   "cell_type": "code",
   "execution_count": null,
   "id": "e210493c",
   "metadata": {},
   "outputs": [],
   "source": []
  },
  {
   "cell_type": "code",
   "execution_count": null,
   "id": "135725aa",
   "metadata": {},
   "outputs": [],
   "source": []
  },
  {
   "cell_type": "code",
   "execution_count": null,
   "id": "a27a3f94",
   "metadata": {},
   "outputs": [],
   "source": []
  },
  {
   "cell_type": "code",
   "execution_count": null,
   "id": "0eb37c63",
   "metadata": {},
   "outputs": [],
   "source": []
  },
  {
   "cell_type": "code",
   "execution_count": 39,
   "id": "b01b57b3",
   "metadata": {
    "collapsed": true
   },
   "outputs": [
    {
     "name": "stdout",
     "output_type": "stream",
     "text": [
      "1. Super User.\n",
      "2. Member.\n",
      "3. Quit\n",
      " 1\n",
      "1. CRUD in member. \n",
      "2. CRUD Regimen\n",
      "3. Exit 1\n",
      "For Members\n",
      "1. Create\n",
      "2.Read\n",
      "3.Update\n",
      "4.Delete\n",
      "5.Exit1\n",
      "Enter the name of userKrishnakant Verma ji\n",
      "Enter the mobile number4444\n",
      "Enter the BMI28\n",
      "Enter the month in foll order:1,3,6,126\n",
      "Enter the emailkrishna@gmail.com\n",
      "Enter the genderM\n",
      "Enter Age23\n",
      "Enter PasswordKrishna@1234\n",
      "For Members\n",
      "1. Create\n",
      "2.Read\n",
      "3.Update\n",
      "4.Delete\n",
      "5.Exit2\n",
      "Enter the mobile no: 4444\n",
      "Name:Krishnakant Verma ji\n",
      "Mobile No: 4444\n",
      "BMI: 28\n",
      "Month: 6\n",
      "Email: krishna@gmail.com\n",
      "Gender: M\n",
      "Age: 23\n",
      "\n",
      "For Members\n",
      "1. Create\n",
      "2.Read\n",
      "3.Update\n",
      "4.Delete\n",
      "5.Exit3\n",
      "Enter the vale which you want to update:\n",
      "1.Month\n",
      "1\n",
      "Enter the mobile no: 4444\n",
      "Enter the BMI Value18.5\n",
      "For Members\n",
      "1. Create\n",
      "2.Read\n",
      "3.Update\n",
      "4.Delete\n",
      "5.Exit2\n",
      "Enter the mobile no: 4444\n",
      "Name:Krishnakant Verma ji\n",
      "Mobile No: 4444\n",
      "BMI: 18.5\n",
      "Month: 6\n",
      "Email: krishna@gmail.com\n",
      "Gender: M\n",
      "Age: 23\n",
      "\n",
      "For Members\n",
      "1. Create\n",
      "2.Read\n",
      "3.Update\n",
      "4.Delete\n",
      "5.Exit1\n",
      "Enter the name of userPavan P\n",
      "Enter the mobile number9999\n",
      "Enter the BMI28\n",
      "Enter the month in foll order:1,3,6,123\n",
      "Enter the emailpavan@gmail.com\n",
      "Enter the genderM\n",
      "Enter Age22\n",
      "Enter PasswordPavan125\n",
      "For Members\n",
      "1. Create\n",
      "2.Read\n",
      "3.Update\n",
      "4.Delete\n",
      "5.Exit2\n",
      "Enter the mobile no: 9999\n",
      "Name:Pavan P\n",
      "Mobile No: 9999\n",
      "BMI: 28\n",
      "Month: 3\n",
      "Email: pavan@gmail.com\n",
      "Gender: M\n",
      "Age: 22\n",
      "\n",
      "For Members\n",
      "1. Create\n",
      "2.Read\n",
      "3.Update\n",
      "4.Delete\n",
      "5.Exit4\n",
      "Enter the mobile no: 4444\n",
      "For Members\n",
      "1. Create\n",
      "2.Read\n",
      "3.Update\n",
      "4.Delete\n",
      "5.Exit2\n",
      "Enter the mobile no: 4444\n"
     ]
    },
    {
     "ename": "KeyError",
     "evalue": "'4444'",
     "output_type": "error",
     "traceback": [
      "\u001b[1;31m---------------------------------------------------------------------------\u001b[0m",
      "\u001b[1;31mKeyError\u001b[0m                                  Traceback (most recent call last)",
      "\u001b[1;32mC:\\Users\\KUNALC~1\\AppData\\Local\\Temp/ipykernel_30436/710302167.py\u001b[0m in \u001b[0;36m<module>\u001b[1;34m\u001b[0m\n\u001b[0;32m     25\u001b[0m                     \u001b[1;32melif\u001b[0m \u001b[0mcrud_choice\u001b[0m \u001b[1;33m==\u001b[0m \u001b[1;36m2\u001b[0m\u001b[1;33m:\u001b[0m\u001b[1;33m\u001b[0m\u001b[1;33m\u001b[0m\u001b[0m\n\u001b[0;32m     26\u001b[0m                         \u001b[0mmobile_no\u001b[0m \u001b[1;33m=\u001b[0m \u001b[0minput\u001b[0m\u001b[1;33m(\u001b[0m\u001b[1;34m\"Enter the mobile no: \"\u001b[0m\u001b[1;33m)\u001b[0m\u001b[1;33m\u001b[0m\u001b[1;33m\u001b[0m\u001b[0m\n\u001b[1;32m---> 27\u001b[1;33m                         \u001b[0mpassw\u001b[0m \u001b[1;33m=\u001b[0m \u001b[0mlist\u001b[0m\u001b[1;33m(\u001b[0m\u001b[0mdict1\u001b[0m\u001b[1;33m[\u001b[0m\u001b[0mmobile_no\u001b[0m\u001b[1;33m]\u001b[0m\u001b[1;33m.\u001b[0m\u001b[0mkeys\u001b[0m\u001b[1;33m(\u001b[0m\u001b[1;33m)\u001b[0m\u001b[1;33m)\u001b[0m\u001b[1;33m[\u001b[0m\u001b[1;36m0\u001b[0m\u001b[1;33m]\u001b[0m\u001b[1;33m\u001b[0m\u001b[1;33m\u001b[0m\u001b[0m\n\u001b[0m\u001b[0;32m     28\u001b[0m                         \u001b[0mname\u001b[0m \u001b[1;33m=\u001b[0m \u001b[0mdict1\u001b[0m\u001b[1;33m[\u001b[0m\u001b[0mmobile_no\u001b[0m\u001b[1;33m]\u001b[0m\u001b[1;33m[\u001b[0m\u001b[0mpassw\u001b[0m\u001b[1;33m]\u001b[0m\u001b[1;33m[\u001b[0m\u001b[1;34m\"name\"\u001b[0m\u001b[1;33m]\u001b[0m\u001b[1;33m\u001b[0m\u001b[1;33m\u001b[0m\u001b[0m\n\u001b[0;32m     29\u001b[0m                         \u001b[0mmobile\u001b[0m \u001b[1;33m=\u001b[0m \u001b[0mdict1\u001b[0m\u001b[1;33m[\u001b[0m\u001b[0mmobile_no\u001b[0m\u001b[1;33m]\u001b[0m\u001b[1;33m[\u001b[0m\u001b[0mpassw\u001b[0m\u001b[1;33m]\u001b[0m\u001b[1;33m[\u001b[0m\u001b[1;34m\"mobile\"\u001b[0m\u001b[1;33m]\u001b[0m\u001b[1;33m\u001b[0m\u001b[1;33m\u001b[0m\u001b[0m\n",
      "\u001b[1;31mKeyError\u001b[0m: '4444'"
     ]
    }
   ],
   "source": [
    "# exit = \"N\"\n",
    "# while exit:\n",
    "options = int(input(\"1. Super User.\\n2. Member.\\n3. Quit\\n \"))\n",
    "dict1 = {}\n",
    "with open(\"GYM.json\",\"r\") as fp:\n",
    "    dict1 = json.load(fp)\n",
    "while options < 3 and options >0:\n",
    "    if options == 1:\n",
    "        choice = int(input(\"1. CRUD in member. \\n2. CRUD Regimen\\n3. Exit \"))\n",
    "        while choice < 3 and choice >0:\n",
    "            if choice == 1:\n",
    "                crud_choice = int(input(\"For Members\\n1. Create\\n2.Read\\n3.Update\\n4.Delete\\n5.Exit\"))\n",
    "                while crud_choice<5 and crud_choice>0:\n",
    "                    if crud_choice == 1:\n",
    "                        user = Gym()\n",
    "                        user.set_name(input(\"Enter the name of user\"))\n",
    "                        user.set_mobile_number(input(\"Enter the mobile number\"))\n",
    "                        user.set_bmi(input(\"Enter the BMI\"))\n",
    "                        user.set_duration_in_month(input(\"Enter the month in foll order:1,3,6,12\"))\n",
    "                        user.set_email(input(\"Enter the email\"))\n",
    "                        user.set_gender(input(\"Enter the gender\"))\n",
    "                        user.set_age(input(\"Enter Age\"))\n",
    "                        user.set_password(input(\"Enter Password\"))\n",
    "                        user.create_user()\n",
    "                        dict1[user.mobile] = {}\n",
    "                        dict1[user.mobile][user.password] = user.__dict__\n",
    "                    elif crud_choice == 2:\n",
    "                        try:\n",
    "                            mobile_no = input(\"Enter the mobile no: \")\n",
    "                            passw = list(dict1[mobile_no].keys())[0]\n",
    "                            name = dict1[mobile_no][passw][\"name\"]\n",
    "                            mobile = dict1[mobile_no][passw][\"mobile\"]\n",
    "                            bmi = dict1[mobile_no][passw][\"bmi\"]\n",
    "    #                         work_out = dict1[mobile_no][passw][\"workout_reg\"]\n",
    "                            month = dict1[mobile_no][passw][\"month\"]\n",
    "                            email = dict1[mobile_no][passw][\"email\"]\n",
    "                            gender = dict1[mobile_no][passw][\"gender\"]\n",
    "                            age = dict1[mobile_no][passw][\"age\"]\n",
    "                            print(\"Name:{}\\nMobile No: {}\\nBMI: {}\\nMonth: {}\\nEmail: {}\\nGender: {}\\nAge: {}\\n\".format(name,mobile,bmi,month,email,gender,age))\n",
    "                        except KeyError:\n",
    "                            print(\"the key does not exists\")\n",
    "                    elif crud_choice == 3:\n",
    "                        updt_value = int(input(\"Enter the vale which you want to update:\\n1.Month\\n\"))\n",
    "                        if updt_value == 1:\n",
    "                            try:\n",
    "                                mobile_no = input(\"Enter the mobile no: \")\n",
    "                                passw = list(dict1[mobile_no].keys())[0]\n",
    "                                dict1[mobile_no][passw][\"bmi\"] = input(\"Enter the BMI Value\")\n",
    "                            except KeyError:\n",
    "                                print(\"The Key does not\")\n",
    "                    elif crud_choice == 4:\n",
    "                        try:\n",
    "                            mobile_no = input(\"Enter the mobile no: \")\n",
    "                            del dict1[mobile_no]\n",
    "                            del Gym.super_user[mobile_no]\n",
    "                        except KeyError:\n",
    "                            print(\"the mobile no. doent exists\")\n",
    "                    else:\n",
    "                        break\n",
    "                    crud_choice = int(input(\"For Members\\n1. Create\\n2.Read\\n3.Update\\n4.Delete\\n5.Exit\"))\n",
    "            \n",
    "    elif options == 2:\n",
    "        pass\n",
    "    elif options == 3:\n",
    "        break\n",
    "    else:\n",
    "        print(\"Invalid Input pls try again!!\")\n",
    "        options = int(input(\"1. Super User.\\n2. Member.\\n3. Quit\\n \"))\n",
    "with open(\"GYM.json\",\"w\") as data_file:\n",
    "    json.dump(dict1, data_file, indent=4)"
   ]
  },
  {
   "cell_type": "code",
   "execution_count": 37,
   "id": "11899266",
   "metadata": {
    "collapsed": true
   },
   "outputs": [
    {
     "data": {
      "text/plain": [
       "{'Guruasd#@': {'name': 'Guru',\n",
       "  'mobile': '8989898',\n",
       "  'bmi': '25',\n",
       "  'workout_reg': {'Mon': 'Chest',\n",
       "   'Tue': 'Biceps',\n",
       "   'Wed': 'Cardio/Abs',\n",
       "   'Thu': 'Back',\n",
       "   'Fri': 'Triceps',\n",
       "   'Sat': 'Legs',\n",
       "   'Sun': 'Rest'},\n",
       "  'month': '6',\n",
       "  'email': 'guru@gmail.cm',\n",
       "  'gender': 'M',\n",
       "  'age': '23',\n",
       "  'password': 'Guruasd#@'}}"
      ]
     },
     "execution_count": 37,
     "metadata": {},
     "output_type": "execute_result"
    }
   ],
   "source": [
    "dict1['8989898']"
   ]
  },
  {
   "cell_type": "code",
   "execution_count": null,
   "id": "4bb609f1",
   "metadata": {},
   "outputs": [],
   "source": []
  },
  {
   "cell_type": "code",
   "execution_count": 28,
   "id": "b3199440",
   "metadata": {},
   "outputs": [],
   "source": [
    "dict2 = {\"abcd\":None}"
   ]
  },
  {
   "cell_type": "code",
   "execution_count": 29,
   "id": "30b0cbab",
   "metadata": {},
   "outputs": [
    {
     "data": {
      "text/plain": [
       "{'abcd': None}"
      ]
     },
     "execution_count": 29,
     "metadata": {},
     "output_type": "execute_result"
    }
   ],
   "source": [
    "dict2"
   ]
  },
  {
   "cell_type": "code",
   "execution_count": 30,
   "id": "3de1929c",
   "metadata": {},
   "outputs": [],
   "source": [
    "del dict2"
   ]
  },
  {
   "cell_type": "code",
   "execution_count": 32,
   "id": "d0939e10",
   "metadata": {},
   "outputs": [
    {
     "ename": "NameError",
     "evalue": "name 'dict2' is not defined",
     "output_type": "error",
     "traceback": [
      "\u001b[1;31m---------------------------------------------------------------------------\u001b[0m",
      "\u001b[1;31mNameError\u001b[0m                                 Traceback (most recent call last)",
      "\u001b[1;32mC:\\Users\\KUNALC~1\\AppData\\Local\\Temp/ipykernel_30436/2395177987.py\u001b[0m in \u001b[0;36m<module>\u001b[1;34m\u001b[0m\n\u001b[1;32m----> 1\u001b[1;33m \u001b[0mdict2\u001b[0m\u001b[1;33m\u001b[0m\u001b[1;33m\u001b[0m\u001b[0m\n\u001b[0m",
      "\u001b[1;31mNameError\u001b[0m: name 'dict2' is not defined"
     ]
    }
   ],
   "source": [
    "dict2"
   ]
  },
  {
   "cell_type": "code",
   "execution_count": null,
   "id": "c5cf22cc",
   "metadata": {},
   "outputs": [],
   "source": []
  },
  {
   "cell_type": "code",
   "execution_count": null,
   "id": "fad1d9d0",
   "metadata": {},
   "outputs": [],
   "source": []
  },
  {
   "cell_type": "code",
   "execution_count": 31,
   "id": "df73b776",
   "metadata": {},
   "outputs": [
    {
     "data": {
      "text/plain": [
       "{'9999': {'bilaT': <__main__.Gym at 0x1b6b5636e50>},\n",
       " '89898989': {'abcd': <__main__.Gym at 0x1b6b5ed0970>}}"
      ]
     },
     "execution_count": 31,
     "metadata": {},
     "output_type": "execute_result"
    }
   ],
   "source": [
    "user.super_user"
   ]
  },
  {
   "cell_type": "code",
   "execution_count": 34,
   "id": "1ab60976",
   "metadata": {},
   "outputs": [],
   "source": [
    "pas = list(Gym.super_user[\"9999\"].keys())"
   ]
  },
  {
   "cell_type": "code",
   "execution_count": 39,
   "id": "921f5566",
   "metadata": {},
   "outputs": [
    {
     "data": {
      "text/plain": [
       "'Talib'"
      ]
     },
     "execution_count": 39,
     "metadata": {},
     "output_type": "execute_result"
    }
   ],
   "source": [
    "Gym.super_user[\"9999\"][pas[0]].name"
   ]
  },
  {
   "cell_type": "code",
   "execution_count": 42,
   "id": "60521e69",
   "metadata": {},
   "outputs": [
    {
     "data": {
      "text/plain": [
       "'9999'"
      ]
     },
     "execution_count": 42,
     "metadata": {},
     "output_type": "execute_result"
    }
   ],
   "source": [
    "Gym.super_user[\"9999\"][pas[0]].mobile"
   ]
  },
  {
   "cell_type": "code",
   "execution_count": 43,
   "id": "a5cda919",
   "metadata": {},
   "outputs": [
    {
     "data": {
      "text/plain": [
       "'bilaT'"
      ]
     },
     "execution_count": 43,
     "metadata": {},
     "output_type": "execute_result"
    }
   ],
   "source": [
    "Gym.super_user[\"9999\"][pas[0]].password"
   ]
  },
  {
   "cell_type": "code",
   "execution_count": 44,
   "id": "6214157f",
   "metadata": {},
   "outputs": [
    {
     "data": {
      "text/plain": [
       "'M'"
      ]
     },
     "execution_count": 44,
     "metadata": {},
     "output_type": "execute_result"
    }
   ],
   "source": [
    "Gym.super_user[\"9999\"][pas[0]].gender"
   ]
  },
  {
   "cell_type": "code",
   "execution_count": 45,
   "id": "29c71381",
   "metadata": {},
   "outputs": [
    {
     "data": {
      "text/plain": [
       "<__main__.Gym at 0x1b6b5ed0970>"
      ]
     },
     "execution_count": 45,
     "metadata": {},
     "output_type": "execute_result"
    }
   ],
   "source": [
    "pas = list(Gym.super_user[\"89898989\"].keys())\n",
    "Gym.super_user[\"89898989\"][pas[0]]"
   ]
  },
  {
   "cell_type": "code",
   "execution_count": 2,
   "id": "3903854b",
   "metadata": {},
   "outputs": [],
   "source": [
    "d = {\"Kunal\":\"Edyoda\",\"Guru\":\"Python Developer\"}"
   ]
  },
  {
   "cell_type": "code",
   "execution_count": 16,
   "id": "ab3ec7c4",
   "metadata": {},
   "outputs": [],
   "source": [
    "import json\n"
   ]
  },
  {
   "cell_type": "code",
   "execution_count": 21,
   "id": "f801118e",
   "metadata": {},
   "outputs": [],
   "source": [
    "with open(\"GYM.json\",\"w\") as data_file:\n",
    "    json.dump(dict1, data_file, indent=4)"
   ]
  },
  {
   "cell_type": "code",
   "execution_count": 15,
   "id": "f25fd3b1",
   "metadata": {},
   "outputs": [],
   "source": [
    "with open(\"GYM.json\",\"w+\") as fp:\n",
    "    fp.write(js_obj)"
   ]
  },
  {
   "cell_type": "code",
   "execution_count": 16,
   "id": "c0383f5c",
   "metadata": {},
   "outputs": [],
   "source": [
    "with open(\"GYM.json\",\"r\") as fp:\n",
    "    js = json.load(fp)"
   ]
  },
  {
   "cell_type": "code",
   "execution_count": 17,
   "id": "5a73d27b",
   "metadata": {},
   "outputs": [
    {
     "name": "stdout",
     "output_type": "stream",
     "text": [
      "{'85964124': {'pavansmartboi': {'name': 'Pavan', 'mobile': '85964124', 'bmi': '30', 'month': 1, 'email': 'pavan@gmail.com', 'gender': 'M', 'age': '22', 'password': 'pavansmartboi'}}, '847596235': {'vermaji': {'name': 'Krishnakant', 'mobile': '847596235', 'bmi': '26', 'month': 1, 'email': 'krishna@yahoo.in', 'gender': 'M', 'age': '22', 'password': 'vermaji'}}}\n"
     ]
    }
   ],
   "source": [
    "print(js)"
   ]
  },
  {
   "cell_type": "code",
   "execution_count": null,
   "id": "72b6bf0f",
   "metadata": {},
   "outputs": [],
   "source": []
  }
 ],
 "metadata": {
  "kernelspec": {
   "display_name": "Python 3 (ipykernel)",
   "language": "python",
   "name": "python3"
  },
  "language_info": {
   "codemirror_mode": {
    "name": "ipython",
    "version": 3
   },
   "file_extension": ".py",
   "mimetype": "text/x-python",
   "name": "python",
   "nbconvert_exporter": "python",
   "pygments_lexer": "ipython3",
   "version": "3.9.7"
  }
 },
 "nbformat": 4,
 "nbformat_minor": 5
}
